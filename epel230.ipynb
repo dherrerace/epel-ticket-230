{
 "cells": [
  {
   "cell_type": "markdown",
   "id": "34031cfb-d716-4f81-8425-1f7343c6456e",
   "metadata": {},
   "source": [
    "# Stale epel7/8 updates in testing\n",
    "\n",
    "## Introduction\n",
    "\n",
    "This document was built to check updates that have been in testing for too long for EPEL7 and EPEL8 branches. \n",
    "\n",
    "This was reported in the following ticket https://pagure.io/epel/issue/230"
   ]
  },
  {
   "cell_type": "markdown",
   "id": "9202f3c1-c8a3-46c9-b67c-8afc4f3f02d5",
   "metadata": {},
   "source": [
    "## Scrapping information\n",
    "\n",
    "First we need to get information regarding this ticket, there are lots of packages, all with their different conditions, so we will need to get the information sorted out in some way to make things simpler.\n",
    "\n",
    "In the next cell is the list of links that contain the data needed to analyze this:"
   ]
  },
  {
   "cell_type": "code",
   "execution_count": 1,
   "id": "556e7361-5af7-4d49-bb83-8da97dbb21f2",
   "metadata": {},
   "outputs": [],
   "source": [
    "# Query and filter the updates mentioned in the ticket, querying it directly returns the information in json format\n",
    "QUERY_URL = \"https://bodhi.fedoraproject.org/updates/\"\n",
    "\n",
    "# Information about the projects, like who owns it and the asociated contributors\n",
    "SRC_URL = \"https://src.fedoraproject.org/api/0/rpms/\"\n",
    "\n",
    "# Information about the release status of a project\n",
    "RELEASE_URL = \"https://src.fedoraproject.org/_dg/bodhi_updates/rpms/\""
   ]
  },
  {
   "cell_type": "markdown",
   "id": "dd65b59f-877d-4208-a783-953a092a1d51",
   "metadata": {},
   "source": [
    "### Cache downloaded stuff\n",
    "\n",
    "To make things simpler, we will create a cache folder, it can get erased to query the things again if needed"
   ]
  },
  {
   "cell_type": "code",
   "execution_count": 2,
   "id": "7abb5a5b-e7b2-4b50-be1e-28d5e1af2f9b",
   "metadata": {},
   "outputs": [],
   "source": [
    "import os\n",
    "\n",
    "try:\n",
    "    os.mkdir(\"cache\")\n",
    "except:\n",
    "    pass"
   ]
  },
  {
   "cell_type": "markdown",
   "id": "b929d172-8252-4dd3-af18-b0b30edf4a96",
   "metadata": {
    "tags": []
   },
   "source": [
    "### Update requests from Bodhi\n",
    "\n",
    "We need to download the lists of updates that we need to check from bodhi. \n",
    "\n",
    "This information will be saved in the `updates` list.\n",
    "\n",
    "This block also saves the results in the `cache/updates.json` file, remove it if you need to refresh the query, because it will use that as reference instead if it already exists."
   ]
  },
  {
   "cell_type": "code",
   "execution_count": 3,
   "id": "3c83c805-d214-4afe-a49f-d501f3e73941",
   "metadata": {
    "tags": []
   },
   "outputs": [
    {
     "name": "stdout",
     "output_type": "stream",
     "text": [
      "Reading from cache\n",
      "Loaded 144 updates\n"
     ]
    }
   ],
   "source": [
    "import urllib.request\n",
    "import urllib.parse\n",
    "import os.path\n",
    "import json\n",
    "\n",
    "#TODO: change query to last 6 months? last year?\n",
    "args = (\n",
    "    ('submitted_before',2023),\n",
    "    ('status','pending'),\n",
    "    ('status','testing'),\n",
    "    ('releases','EPEL-7'),\n",
    "    ('releases','EPEL-8'),\n",
    ")\n",
    "\n",
    "page = 1\n",
    "updates = []\n",
    "\n",
    "if os.path.exists(\"cache/updates.json\"):\n",
    "    print(\"Reading from cache\")\n",
    "    # Opening JSON file\n",
    "    with open('cache/updates.json', 'r') as openfile:\n",
    "        # Reading from json file\n",
    "        updates = json.load(openfile)\n",
    "else:\n",
    "    while True:\n",
    "        ARGS = urllib.parse.urlencode(args + (('page', page),) )\n",
    "        print(\"Loading page %d (%s)\" % (page, QUERY_URL + '?' + ARGS))\n",
    "\n",
    "        f = urllib.request.urlopen(QUERY_URL + '?' + ARGS)\n",
    "\n",
    "        content = f.read()\n",
    "        data = json.loads(content)\n",
    "        updates = updates + data[\"updates\"]\n",
    "        del data[\"updates\"]\n",
    "        print(\" -> Got page %d of %d\" % (data['page'], data['pages']))\n",
    "        if data[\"page\"] == data[\"pages\"]:\n",
    "            break\n",
    "        page += 1\n",
    "\n",
    "    with open(\"cache/updates.json\", \"w\") as fp:\n",
    "        fp.write(json.dumps(updates, indent=4))\n",
    "\n",
    "print(\"Loaded %d updates\" % (len(updates)))"
   ]
  },
  {
   "cell_type": "markdown",
   "id": "c9a6dd20-3636-486c-b116-ed523c3b6895",
   "metadata": {},
   "source": [
    "### List the involved projects\n",
    "\n",
    "The project names are taken from the update lists parsing the update title. \n",
    "\n",
    "*There might be better ways to do this, so a revision might be needed in the future*.\n"
   ]
  },
  {
   "cell_type": "code",
   "execution_count": 4,
   "id": "757b0033-d2ef-4922-9d44-6e114b30b0f7",
   "metadata": {},
   "outputs": [
    {
     "name": "stdout",
     "output_type": "stream",
     "text": [
      "152 projects' source info loaded\n"
     ]
    }
   ],
   "source": [
    "# Project list\n",
    "import re\n",
    "\n",
    "def project_name(t):\n",
    "    sts = t.split(\"-\")\n",
    "    r = []\n",
    "    for st in sts:\n",
    "        if re.match(r'^[\\d.]+$', st):\n",
    "            break\n",
    "        r.append(st)\n",
    "    return \"-\".join(r)\n",
    "\n",
    "proj_list = set()\n",
    "for update in updates:\n",
    "    proj_list.update([project_name(t) for t in update['title'].split()])\n",
    "\n",
    "proj_list = list(proj_list)\n",
    "print(\"%d projects' source info loaded\" % (len(proj_list)))\n"
   ]
  },
  {
   "cell_type": "markdown",
   "id": "92cb9efe-f226-4b7d-9be5-8a7bf8d2ed2c",
   "metadata": {
    "tags": []
   },
   "source": [
    "### Project information\n",
    "\n",
    "We need to download the lists of projects that we need to check from bodhi.\n",
    "\n",
    "This information will be saved in the update_project dictionary.\n",
    "\n",
    "This block also saves the results in the `cache/projects.json` file, remove it if you need to refresh the query, because it will use that as reference instead if it already exists."
   ]
  },
  {
   "cell_type": "code",
   "execution_count": 5,
   "id": "ce5ccc50-e432-4ff2-a00e-567f6334847e",
   "metadata": {
    "tags": []
   },
   "outputs": [
    {
     "name": "stdout",
     "output_type": "stream",
     "text": [
      "Reading from cache\n",
      "152 projects' release info loaded\n"
     ]
    }
   ],
   "source": [
    "update_projects = {}\n",
    "\n",
    "if os.path.exists(\"cache/projects.json\"):\n",
    "    print(\"Reading from cache\")\n",
    "    # Opening JSON file\n",
    "    with open('cache/projects.json', 'r') as openfile:\n",
    "        # Reading from json file\n",
    "        update_projects = json.load(openfile)    \n",
    "else:\n",
    "\n",
    "    for title in proj_list:\n",
    "        print(\"Loading %s\" % title)\n",
    "        f = urllib.request.urlopen(SRC_URL + title)\n",
    "\n",
    "        content = f.read()\n",
    "\n",
    "        project_info = json.loads(content.decode(\"utf8\"))\n",
    "        update_projects[title] = project_info\n",
    "    \n",
    "    with open(\"cache/projects.json\", \"w\") as fp:\n",
    "        fp.write(json.dumps(update_projects, indent=4))\n",
    "\n",
    "print(\"%d projects' release info loaded\" % (len(update_projects.keys())))"
   ]
  },
  {
   "cell_type": "markdown",
   "id": "33e3effc-af52-4325-96a8-55526e51b6c8",
   "metadata": {},
   "source": [
    "### Downloading release information\n",
    "\n",
    "Release information is important to see the state of the project.\n",
    "\n",
    "For example, if it's currently retired from the update branch or from the current release, or if it's a new package for the branch."
   ]
  },
  {
   "cell_type": "code",
   "execution_count": 6,
   "id": "d879ce22-f269-4b9f-921f-1bf55a2f4132",
   "metadata": {},
   "outputs": [
    {
     "name": "stdout",
     "output_type": "stream",
     "text": [
      "Reading from cache\n",
      "Loaded 152 releases\n"
     ]
    }
   ],
   "source": [
    "update_releases = {}\n",
    "\n",
    "if os.path.exists(\"cache/releases.json\"):\n",
    "    print(\"Reading from cache\")\n",
    "    # Opening JSON file\n",
    "    with open('cache/releases.json', 'r') as openfile:\n",
    "        # Reading from json file\n",
    "        update_releases = json.load(openfile)    \n",
    "else:\n",
    "\n",
    "    for title in proj_list:\n",
    "        print(\"Loading %s\" % title)\n",
    "        f = urllib.request.urlopen(RELEASE_URL + title)\n",
    "\n",
    "        content = f.read()\n",
    "\n",
    "        release_info = json.loads(content.decode(\"utf8\"))\n",
    "        update_releases[title] = release_info\n",
    "    \n",
    "    with open(\"cache/releases.json\", \"w\") as fp:\n",
    "        fp.write(json.dumps(update_releases, indent=4))\n",
    "\n",
    "print(\"Loaded %d releases\" % (len(update_releases.keys())))"
   ]
  },
  {
   "cell_type": "markdown",
   "id": "fcdc2986-ce22-4fce-9ec2-354133f7d4d1",
   "metadata": {
    "tags": []
   },
   "source": [
    "## Organize data\n",
    "\n",
    "The following blocks organizes the data for easier access to it"
   ]
  },
  {
   "cell_type": "markdown",
   "id": "0215cf30-3770-4dfe-bdcf-64f67ab763a6",
   "metadata": {
    "tags": []
   },
   "source": [
    "### Add project information to update data\n",
    "\n",
    "Here we merge the project information into their respective updates. In the current scenario there are no duplicate projects, but that is something that should be taken account for."
   ]
  },
  {
   "cell_type": "code",
   "execution_count": 7,
   "id": "57c1a597-e595-4f7c-ae7e-dded872774ed",
   "metadata": {
    "tags": []
   },
   "outputs": [],
   "source": [
    "updates.sort(key=lambda x: x['date_submitted'])\n",
    "\n",
    "for i in range(len(updates)):\n",
    "    proj_titles = [project_name(t) for t in updates[i]['title'].split()]\n",
    "    projects = []\n",
    "    releases = []\n",
    "\n",
    "    for title in proj_titles:\n",
    "        update_projects[title][\"release_info\"] = update_releases[title]\n",
    "        projects.append(update_projects[title])\n",
    "    updates[i][\"projects\"] = projects"
   ]
  },
  {
   "cell_type": "markdown",
   "id": "e28ee920-242a-477d-8eb5-34534db4b9bf",
   "metadata": {
    "tags": []
   },
   "source": [
    "### Group by user\n",
    "\n",
    "Just to get the idea of how many users are involved with this updates.\n",
    "\n",
    "*I don't use it in the overall, but it's a fun number to know about*"
   ]
  },
  {
   "cell_type": "code",
   "execution_count": 8,
   "id": "fa88cc3e-2179-4320-bb33-d64a1e9870ce",
   "metadata": {
    "tags": []
   },
   "outputs": [
    {
     "name": "stdout",
     "output_type": "stream",
     "text": [
      "Number of users related to submissions: 44\n"
     ]
    }
   ],
   "source": [
    "users = []\n",
    "for update in updates:\n",
    "    name = update['user']['name']\n",
    "    if name not in users:\n",
    "        users.append(name)\n",
    "\n",
    "user_pkgs = [ {\n",
    "    'name' : user,\n",
    "    'total' : len([update['title'] for update in updates if update['user']['name'] == user]),\n",
    "    'updates' : [ update for update in updates if update['user']['name'] == user]\n",
    "    } for user in users ]\n",
    "\n",
    "print(\"Number of users related to submissions: %d\" % len(user_pkgs))"
   ]
  },
  {
   "cell_type": "markdown",
   "id": "c62232f0-2169-48aa-ab47-64d266ac08fe",
   "metadata": {
    "tags": []
   },
   "source": [
    "### Filter users with only one update\n",
    "\n",
    "*Just more fun stats to know about*"
   ]
  },
  {
   "cell_type": "code",
   "execution_count": 9,
   "id": "fe7cba36-3f32-4bf7-8572-3c7e1b60923d",
   "metadata": {
    "tags": []
   },
   "outputs": [
    {
     "name": "stdout",
     "output_type": "stream",
     "text": [
      "Number of users that submitted only one update: 33\n"
     ]
    }
   ],
   "source": [
    "have_1 = [x for x in user_pkgs if x['total'] == 1]\n",
    "have_1.sort(key=lambda x: x['updates'][0]['date_submitted'])\n",
    "\n",
    "print(\"Number of users that submitted only one update: %d\" % len(have_1))"
   ]
  },
  {
   "cell_type": "markdown",
   "id": "b208e3cb-84d4-40cf-b476-129aa6ca9e3c",
   "metadata": {},
   "source": [
    "### Filter orphaned projects\n",
    "\n",
    "We can easily discard orphaned project's updates, so let's filter them out.\n",
    "\n",
    "Here we group the updates where all of their subprojects are discarded and the ones that some of their updates are discarded.\n",
    "\n",
    "I also separated the projects depending on the level of involvement of the user who pushed the update."
   ]
  },
  {
   "cell_type": "code",
   "execution_count": 10,
   "id": "6cf3a68f-f443-49f1-981f-98398e62e37b",
   "metadata": {},
   "outputs": [
    {
     "name": "stdout",
     "output_type": "stream",
     "text": [
      "104 orphaned projects, 40 projects left\n"
     ]
    }
   ],
   "source": [
    "orphaned = {\n",
    "    'all': {\n",
    "        'orphan': [],\n",
    "        'contrib': [],\n",
    "        'rest': [],\n",
    "    },\n",
    "    'some': {\n",
    "        'owner': [],\n",
    "        'contrib': [],\n",
    "        'rest': [],\n",
    "    },\n",
    "}\n",
    "\n",
    "active = []\n",
    "\n",
    "pre_len = len(updates)\n",
    "\n",
    "for update in updates:\n",
    "    owner = 0\n",
    "    contrib = 0\n",
    "    orphan = 0\n",
    "    half_orphan = 0\n",
    "\n",
    "    for project in update['projects']:\n",
    "        names = list(set(sum(\n",
    "            [\n",
    "                project['access_users']['admin'],\n",
    "                project['access_users']['owner'],\n",
    "                project['access_users']['commit'],\n",
    "                project['access_users']['collaborator'],\n",
    "                project['access_users']['collaborator'],\n",
    "                [project['user']['name']]], [])))\n",
    "\n",
    "        if project['user']['name'] == update['user']['name']:\n",
    "            owner += 1\n",
    "        elif update['user']['name'] in names:\n",
    "            contrib += 1\n",
    "\n",
    "        if project['user']['name'] == 'orphan':\n",
    "            if len(names) == 1:\n",
    "                orphan += 1\n",
    "            else:\n",
    "                half_orphan += 1\n",
    "\n",
    "\n",
    "    if orphan + half_orphan > 0:\n",
    "        if orphan + half_orphan == len(update['projects']):\n",
    "            if orphan == len(update['projects']):\n",
    "                orphaned['all']['orphan'].append(update)\n",
    "            elif contrib > 0:\n",
    "                orphaned['all']['contrib'].append(update)\n",
    "            else:\n",
    "                orphaned['all']['rest'].append(update)\n",
    "        else:\n",
    "            if owner > 0:\n",
    "                orphaned['some']['owner'].append(update)\n",
    "            elif contrib > 0:\n",
    "                orphaned['some']['contrib'].append(update)\n",
    "            else:\n",
    "                orphaned['some']['rest'].append(update)\n",
    "    else:\n",
    "        active.append(update)\n",
    "\n",
    "updates = active\n",
    "\n",
    "print(\"%d orphaned projects, %d projects left\" % (pre_len - len(updates), len(updates)))\n"
   ]
  },
  {
   "cell_type": "code",
   "execution_count": 11,
   "id": "9330d3fd-0cad-407e-8a8e-63e5f3b7668f",
   "metadata": {},
   "outputs": [
    {
     "name": "stdout",
     "output_type": "stream",
     "text": [
      "Updates with orphaned projects:\n",
      "\n",
      "all orphan: 52\n",
      "all contrib: 49\n",
      "all rest: 3\n",
      "all: 104\n",
      "\n",
      "total 104\n"
     ]
    }
   ],
   "source": [
    "print(\"Updates with orphaned projects:\")\n",
    "print()\n",
    "\n",
    "proc_sum = 0\n",
    "\n",
    "for k1 in orphaned:\n",
    "    if type(orphaned[k1]) is list:\n",
    "        if len(orphaned[k1]) > 0:\n",
    "            print(\"%s: %d\" % (k1, len(orphaned[k1])))\n",
    "            print()\n",
    "            proc_sum += len(orphaned[k1])\n",
    "    else:\n",
    "        k1_sum = 0\n",
    "        for k2 in orphaned[k1]:\n",
    "            if len(orphaned[k1][k2]) > 0:\n",
    "                print(\"%s %s: %d\" % (k1, k2, len(orphaned[k1][k2])))\n",
    "                proc_sum += len(orphaned[k1][k2])\n",
    "                k1_sum += len(orphaned[k1][k2])\n",
    "        if k1_sum > 0:\n",
    "            print(\"%s: %d\" % (k1, k1_sum))\n",
    "            print()\n",
    "            \n",
    "print(\"total %d\" % (proc_sum))"
   ]
  },
  {
   "cell_type": "markdown",
   "id": "fdbb80a8-7574-4526-92ae-023a6ad870e1",
   "metadata": {},
   "source": [
    "### Filter projects without stable releases\n",
    "\n",
    "Retired projects are harder to detect, because they can get confused with projects that don't have an actual branch and never got a release."
   ]
  },
  {
   "cell_type": "code",
   "execution_count": 12,
   "id": "3efe4ad4-5bd3-4585-a32a-5cf88f500976",
   "metadata": {},
   "outputs": [
    {
     "name": "stdout",
     "output_type": "stream",
     "text": [
      "19 posibly retired projects, 21 projects left\n"
     ]
    }
   ],
   "source": [
    "retired = {\n",
    "    'some': {\n",
    "        'rawhide': [],\n",
    "        'epel': []\n",
    "    },\n",
    "    'all': {\n",
    "        'rawhide': [],\n",
    "        'epel': []\n",
    "    },\n",
    "    'rawhide': []\n",
    "}\n",
    "\n",
    "active = []\n",
    "\n",
    "# TODO: remove hardcoded rawhide branch\n",
    "rawhide = \"F39\"\n",
    "\n",
    "pre_len = len(updates)\n",
    "\n",
    "for update in updates:\n",
    "    release_name = update['release']['name']\n",
    "    rawhide_count = 0\n",
    "    retired_count = 0\n",
    "    for project in update['projects']:\n",
    "        if project['release_info']['updates'][release_name]['stable'] is None:\n",
    "            retired_count += 1\n",
    "        if project['release_info']['updates'][rawhide]['stable'] is None:\n",
    "            rawhide_count += 1\n",
    "\n",
    "    if retired_count == 0:\n",
    "        if rawhide_count > 0:\n",
    "            retired['rawhide'].append(update)\n",
    "        else:\n",
    "            active.append(update)\n",
    "    elif retired_count == len(update['projects']):\n",
    "        if rawhide_count > 0:\n",
    "            retired['all']['rawhide'].append(update)\n",
    "        else:\n",
    "            retired['all']['epel'].append(update)\n",
    "    else:\n",
    "        if rawhide_count > 0:\n",
    "            retired['some']['rawhide'].append(update)\n",
    "        else:\n",
    "            retired['some']['epel'].append(update)\n",
    "\n",
    "updates = active\n",
    "\n",
    "print(\"%d posibly retired projects, %d projects left\" % (pre_len - len(updates), len(updates)))\n"
   ]
  },
  {
   "cell_type": "code",
   "execution_count": 13,
   "id": "3d28e098-dbc8-4faa-909c-9ed348aac32c",
   "metadata": {},
   "outputs": [
    {
     "name": "stdout",
     "output_type": "stream",
     "text": [
      "Projects without stable releases:\n",
      "\n",
      "all rawhide: 1\n",
      "all epel: 13\n",
      "all: 14\n",
      "\n",
      "rawhide: 5\n",
      "\n",
      "total 19\n"
     ]
    }
   ],
   "source": [
    "print(\"Projects without stable releases:\")\n",
    "print()\n",
    "\n",
    "proc_sum = 0\n",
    "for k1 in retired:\n",
    "    if type(retired[k1]) is list:\n",
    "        if len(retired[k1]) > 0:\n",
    "            print(\"%s: %d\" % (k1, len(retired[k1])))\n",
    "            print()\n",
    "            proc_sum += len(retired[k1])\n",
    "    else:\n",
    "        k1_sum = 0\n",
    "        for k2 in retired[k1]:\n",
    "            if len(retired[k1][k2]) > 0:\n",
    "                print(\"%s %s: %d\" % (k1, k2, len(retired[k1][k2])))\n",
    "                proc_sum += len(retired[k1][k2])\n",
    "                k1_sum += len(retired[k1][k2])\n",
    "        if k1_sum > 0:\n",
    "            print(\"%s: %d\" % (k1, k1_sum))\n",
    "            print()\n",
    "            \n",
    "print(\"total %d\" % (proc_sum))"
   ]
  },
  {
   "cell_type": "markdown",
   "id": "c7d00bfb-5c3d-4c11-a2a0-d4255a0d9174",
   "metadata": {},
   "source": [
    "### Organize by uploader status\n",
    "\n",
    "Here I organized the projects in the `up_results` dictionary to get a propper view on how the update submitter is involved in the project. I separated it in the following categories.\n",
    "\n",
    "- owner: Submitter is owner of at least one of the projects in the update\n",
    "    - all: the submitter is owner of all the projects\n",
    "    - contrib: the submitter contributor to some of the projects\n",
    "    - rest: submitter is not directly related to some of the project (maybe group?)\n",
    "- contrib: Submitter is not owner of any, but is at least contributor to one of them\n",
    "    - contrib: the submitter contributes to all the projects\n",
    "    - rest: owner to at least one project, but it's relation to the other projects is not confirmed\n",
    "- group: The submitter is not in the list of users related to the project, but there are SIGs that have permissions to maintain the project.\n",
    "\n",
    "The rest where submitted by people not in the list of users related to the project, so they might have just left the project or are posibly related to a group."
   ]
  },
  {
   "cell_type": "code",
   "execution_count": 14,
   "id": "76cb3655-62ea-4374-8285-38d6fe078815",
   "metadata": {
    "tags": []
   },
   "outputs": [
    {
     "name": "stdout",
     "output_type": "stream",
     "text": [
      "16 projects left\n"
     ]
    }
   ],
   "source": [
    "up_results = {\n",
    "    'owner': {\n",
    "        'all': [],\n",
    "        'contrib': [],\n",
    "        'rest': [],\n",
    "    },\n",
    "    'contrib': {\n",
    "        'contrib': [],\n",
    "        'rest': []\n",
    "    },\n",
    "    'group': []\n",
    "}\n",
    "\n",
    "unrelated = []\n",
    "\n",
    "for update in updates:\n",
    "    owner = 0\n",
    "    contrib = 0\n",
    "    c_groups = 0\n",
    "\n",
    "    for project in update['projects']:\n",
    "        names = list(set(sum(\n",
    "            [\n",
    "                project['access_users']['admin'],\n",
    "                project['access_users']['owner'],\n",
    "                project['access_users']['commit'],\n",
    "                project['access_users']['collaborator'],\n",
    "                project['access_users']['collaborator'],\n",
    "                [project['user']['name']]], [])))\n",
    "\n",
    "        groups = project['access_groups']\n",
    "        groups = list(set(groups['admin'] + groups['commit']))\n",
    "        if project['user']['name'] == update['user']['name']:\n",
    "            owner += 1\n",
    "        elif update['user']['name'] in names:\n",
    "            contrib += 1\n",
    "            \n",
    "        if len(groups) > 0:\n",
    "            c_groups += 1\n",
    "\n",
    "    if owner > 0:\n",
    "        if owner == len(update['projects']):\n",
    "            up_results['owner']['all'].append(update)\n",
    "        elif owner + contrib == len(update['projects']):\n",
    "            up_results['owner']['contrib'].append(update)\n",
    "        else:\n",
    "            up_results['owner']['rest'].append(update)\n",
    "\n",
    "    elif contrib > 0:\n",
    "        if contrib  == len(update['projects']):\n",
    "            up_results['owner']['contrib'].append(update)\n",
    "        else:\n",
    "            up_results['owner']['rest'].append(update)\n",
    "    else:\n",
    "        if c_groups > 0:\n",
    "            up_results['group'].append(update)\n",
    "        else:\n",
    "            unrelated.append(update)\n",
    "\n",
    "print(\"%d projects left\" % (len(updates) - len(unrelated)))"
   ]
  },
  {
   "cell_type": "code",
   "execution_count": 15,
   "id": "13337d53-7604-47d5-89d1-a929163044c7",
   "metadata": {
    "tags": []
   },
   "outputs": [
    {
     "name": "stdout",
     "output_type": "stream",
     "text": [
      "Updates where the submitter is currently unrelated to the project\n",
      "\n",
      "unrelated: 5\n",
      "\n",
      "Updates that need to get notified directly\n",
      "\n",
      "owner all: 10\n",
      "owner contrib: 5\n",
      "owner: 15\n",
      "\n",
      "group: 1\n",
      "\n",
      "total: 16\n"
     ]
    }
   ],
   "source": [
    "print(\"Updates where the submitter is currently unrelated to the project\")\n",
    "print()\n",
    "if len(unrelated) > 0:\n",
    "    print(\"unrelated: %d\" % (len(unrelated)))\n",
    "    print()\n",
    "\n",
    "print(\"Updates that need to get notified directly\")\n",
    "print()    \n",
    "    \n",
    "proc_sum = 0\n",
    "for k1 in up_results:\n",
    "    if type(up_results[k1]) is list:\n",
    "        if len(up_results[k1]) > 0:\n",
    "            print(\"%s: %d\" % (k1, len(up_results[k1])))\n",
    "            print()\n",
    "            proc_sum += len(up_results[k1])\n",
    "    else:\n",
    "        k1_sum = 0\n",
    "        for k2 in up_results[k1]:\n",
    "            if len(up_results[k1][k2]) > 0:\n",
    "                print(\"%s %s: %d\" % (k1, k2, len(up_results[k1][k2])))\n",
    "                proc_sum += len(up_results[k1][k2])\n",
    "                k1_sum += len(up_results[k1][k2])\n",
    "        if k1_sum > 0:\n",
    "            print(\"%s: %d\" % (k1, k1_sum))\n",
    "            print()\n",
    "            \n",
    "print(\"total: %d\" % (proc_sum))\n"
   ]
  },
  {
   "cell_type": "markdown",
   "id": "e31680f4-efe8-43dd-a32a-2d2cfd4cc670",
   "metadata": {},
   "source": [
    "## Resolution\n",
    "\n",
    "Here is the list of projects that needs to get dealt with\n",
    "\n",
    "This aux function is to output the project info neatily"
   ]
  },
  {
   "cell_type": "code",
   "execution_count": 16,
   "id": "2688d7b0-5bb5-41f9-9f99-e56f5bc25563",
   "metadata": {},
   "outputs": [],
   "source": [
    "def print_update(update):\n",
    "    print(\"- title: %s\" % update['title'])\n",
    "    print(\"  url: %s\" % update['url'])\n",
    "    print(\"  user: %s\" % update['user']['name'])\n",
    "    print(\"  status: %s\" % update['status'])\n",
    "    print(\"  karma: %s\" % update['karma'])\n",
    "    print(\"  date_submitted: %s\" % update['date_submitted'])\n",
    "    for project in update['projects']:\n",
    "        print(\"  - name: %s\" % project['name'])\n",
    "        print(\"    url: %s\" % project['full_url'])\n",
    "        print(\"    owner: %s\" % project['user']['name'])\n",
    "        users = list(\n",
    "            {\n",
    "                user for sublist in [\n",
    "                    project['access_users'][x] for x in project['access_users'] if (\n",
    "                        x in [\"admin\", \"commit\", \"collaborator\", \"owner\"]\n",
    "                    )\n",
    "                ] for user in sublist\n",
    "            })\n",
    "        groups = list(\n",
    "            {\n",
    "                user for sublist in [\n",
    "                    project['access_groups'][x] for x in project['access_users'] if (\n",
    "                        x in [\"admin\", \"commit\", \"collaborator\"]\n",
    "                    )\n",
    "                ] for user in sublist\n",
    "            })\n",
    "        print(\"    users: %s\" % users)\n",
    "        print(\"    groups: %s\" % groups)\n",
    "        print()\n",
    "\n",
    "def print_update_links(update):\n",
    "    print(\"%s\" % update['url'])\n",
    "    for project in update['projects']:\n",
    "        print(\"- %s\" % project['full_url'])\n",
    "\n",
    "def print_update_link_short(update):\n",
    "    print(\"%s\" % update['url'])\n"
   ]
  },
  {
   "cell_type": "markdown",
   "id": "14e46f91-a71c-4204-81ea-294dd6ee86d2",
   "metadata": {},
   "source": [
    "### Retired projects\n",
    "\n",
    "These might need to be dealt with case by case to see if they are actually retired"
   ]
  },
  {
   "cell_type": "code",
   "execution_count": 17,
   "id": "fff8d0c9-2d31-4ec8-891f-e37d72e7f06b",
   "metadata": {},
   "outputs": [
    {
     "name": "stdout",
     "output_type": "stream",
     "text": [
      "some\n",
      "some rawhide\n",
      "some epel\n",
      "all\n",
      "all rawhide\n",
      "https://bodhi.fedoraproject.org/updates/FEDORA-EPEL-2016-1fd3c00778\n",
      "- https://src.fedoraproject.org/rpms/cherokee\n",
      "all epel\n",
      "https://bodhi.fedoraproject.org/updates/FEDORA-EPEL-2016-4a61145af1\n",
      "- https://src.fedoraproject.org/rpms/orafce\n",
      "https://bodhi.fedoraproject.org/updates/FEDORA-EPEL-2017-cd85b86bb1\n",
      "- https://src.fedoraproject.org/rpms/lz4\n",
      "https://bodhi.fedoraproject.org/updates/FEDORA-EPEL-2017-3e26ebd428\n",
      "- https://src.fedoraproject.org/rpms/libgringotts\n",
      "https://bodhi.fedoraproject.org/updates/FEDORA-EPEL-2017-84f0138f7d\n",
      "- https://src.fedoraproject.org/rpms/pidgin-sipe\n",
      "https://bodhi.fedoraproject.org/updates/FEDORA-EPEL-2017-a298c388e0\n",
      "- https://src.fedoraproject.org/rpms/psad\n",
      "https://bodhi.fedoraproject.org/updates/FEDORA-EPEL-2017-bee0db88c2\n",
      "- https://src.fedoraproject.org/rpms/pgmodeler\n",
      "https://bodhi.fedoraproject.org/updates/FEDORA-EPEL-2017-631efd272e\n",
      "- https://src.fedoraproject.org/rpms/python-XStatic-Patternfly-Bootstrap-Treeview\n",
      "https://bodhi.fedoraproject.org/updates/FEDORA-EPEL-2017-6f4644ff52\n",
      "- https://src.fedoraproject.org/rpms/osbs-client\n",
      "https://bodhi.fedoraproject.org/updates/FEDORA-EPEL-2017-1e6af8d84b\n",
      "- https://src.fedoraproject.org/rpms/koji-containerbuild\n",
      "https://bodhi.fedoraproject.org/updates/FEDORA-EPEL-2019-76f6244f19\n",
      "- https://src.fedoraproject.org/rpms/scl-utils-build-helpers\n",
      "https://bodhi.fedoraproject.org/updates/FEDORA-EPEL-2019-889779253e\n",
      "- https://src.fedoraproject.org/rpms/racket\n",
      "https://bodhi.fedoraproject.org/updates/FEDORA-EPEL-2019-7983f73c00\n",
      "- https://src.fedoraproject.org/rpms/tlog\n",
      "https://bodhi.fedoraproject.org/updates/FEDORA-EPEL-2019-308aebccfe\n",
      "- https://src.fedoraproject.org/rpms/pdf-stapler\n",
      "rawhide\n",
      "https://bodhi.fedoraproject.org/updates/FEDORA-EPEL-2016-317482711e\n",
      "- https://src.fedoraproject.org/rpms/kubernetes-ansible\n",
      "https://bodhi.fedoraproject.org/updates/FEDORA-EPEL-2016-18c6f3edb1\n",
      "- https://src.fedoraproject.org/rpms/python-tahrir\n",
      "https://bodhi.fedoraproject.org/updates/FEDORA-EPEL-2016-948467d011\n",
      "- https://src.fedoraproject.org/rpms/nodejs-strip-json-comments\n",
      "https://bodhi.fedoraproject.org/updates/FEDORA-EPEL-2016-97ea64eaa6\n",
      "- https://src.fedoraproject.org/rpms/python-tahrir-api\n",
      "https://bodhi.fedoraproject.org/updates/FEDORA-EPEL-2017-5f5f799cc6\n",
      "- https://src.fedoraproject.org/rpms/supybot-koji\n"
     ]
    }
   ],
   "source": [
    "for k1 in retired:\n",
    "    print(k1)\n",
    "    if type(retired[k1]) is list:\n",
    "        [print_update_links(x) for x in retired[k1]]\n",
    "    else:\n",
    "        for k2 in retired[k1]:\n",
    "            print(k1, k2)\n",
    "            [print_update_links(x) for x in retired[k1][k2]]"
   ]
  },
  {
   "cell_type": "markdown",
   "id": "45b49897-5576-4eeb-b590-baebe60127d4",
   "metadata": {},
   "source": [
    "### Orphaned\n",
    "\n",
    "These can get discarded since there is no one who is taking the lead in actually maintaining the package"
   ]
  },
  {
   "cell_type": "code",
   "execution_count": 18,
   "id": "528a3c50-f14f-449d-bcc9-e7c0de99677f",
   "metadata": {},
   "outputs": [
    {
     "name": "stdout",
     "output_type": "stream",
     "text": [
      "all\n",
      "all orphan\n",
      "https://bodhi.fedoraproject.org/updates/FEDORA-EPEL-2016-a5199f34b3\n",
      "https://bodhi.fedoraproject.org/updates/FEDORA-EPEL-2016-2f4a8e068f\n",
      "https://bodhi.fedoraproject.org/updates/FEDORA-EPEL-2016-74e296ce58\n",
      "https://bodhi.fedoraproject.org/updates/FEDORA-EPEL-2016-7a50412263\n",
      "https://bodhi.fedoraproject.org/updates/FEDORA-EPEL-2016-a12622f56c\n",
      "https://bodhi.fedoraproject.org/updates/FEDORA-EPEL-2016-1d8ebe1be3\n",
      "https://bodhi.fedoraproject.org/updates/FEDORA-EPEL-2016-b9bb950694\n",
      "https://bodhi.fedoraproject.org/updates/FEDORA-EPEL-2016-14d64385a6\n",
      "https://bodhi.fedoraproject.org/updates/FEDORA-EPEL-2016-37c0b14a78\n",
      "https://bodhi.fedoraproject.org/updates/FEDORA-EPEL-2016-0b1c8b8943\n",
      "https://bodhi.fedoraproject.org/updates/FEDORA-EPEL-2016-658c2c6df3\n",
      "https://bodhi.fedoraproject.org/updates/FEDORA-EPEL-2016-0ed34e82ee\n",
      "https://bodhi.fedoraproject.org/updates/FEDORA-EPEL-2016-786a55da7b\n",
      "https://bodhi.fedoraproject.org/updates/FEDORA-EPEL-2016-8946616811\n",
      "https://bodhi.fedoraproject.org/updates/FEDORA-EPEL-2016-a05c86a73a\n",
      "https://bodhi.fedoraproject.org/updates/FEDORA-EPEL-2016-3a1b2d7741\n",
      "https://bodhi.fedoraproject.org/updates/FEDORA-EPEL-2016-6e46f66323\n",
      "https://bodhi.fedoraproject.org/updates/FEDORA-EPEL-2016-41c5eb861d\n",
      "https://bodhi.fedoraproject.org/updates/FEDORA-EPEL-2016-2654cd9eda\n",
      "https://bodhi.fedoraproject.org/updates/FEDORA-EPEL-2017-d0895a05f1\n",
      "https://bodhi.fedoraproject.org/updates/FEDORA-EPEL-2017-5d3e900de6\n",
      "https://bodhi.fedoraproject.org/updates/FEDORA-EPEL-2017-7dace4bddf\n",
      "https://bodhi.fedoraproject.org/updates/FEDORA-EPEL-2017-8af304255b\n",
      "https://bodhi.fedoraproject.org/updates/FEDORA-EPEL-2017-8562dd480b\n",
      "https://bodhi.fedoraproject.org/updates/FEDORA-EPEL-2017-c064184378\n",
      "https://bodhi.fedoraproject.org/updates/FEDORA-EPEL-2017-f8d9348c7c\n",
      "https://bodhi.fedoraproject.org/updates/FEDORA-EPEL-2017-6da2d4700b\n",
      "https://bodhi.fedoraproject.org/updates/FEDORA-EPEL-2017-e5e71cb8be\n",
      "https://bodhi.fedoraproject.org/updates/FEDORA-EPEL-2017-d91376d02d\n",
      "https://bodhi.fedoraproject.org/updates/FEDORA-EPEL-2017-0919f05ff5\n",
      "https://bodhi.fedoraproject.org/updates/FEDORA-EPEL-2017-75d2cd125d\n",
      "https://bodhi.fedoraproject.org/updates/FEDORA-EPEL-2017-931959e927\n",
      "https://bodhi.fedoraproject.org/updates/FEDORA-EPEL-2017-4a80bd1e38\n",
      "https://bodhi.fedoraproject.org/updates/FEDORA-EPEL-2017-09e36abcac\n",
      "https://bodhi.fedoraproject.org/updates/FEDORA-EPEL-2017-931df2ba91\n",
      "https://bodhi.fedoraproject.org/updates/FEDORA-EPEL-2017-0bff3d44c2\n",
      "https://bodhi.fedoraproject.org/updates/FEDORA-EPEL-2017-9fb68965d7\n",
      "https://bodhi.fedoraproject.org/updates/FEDORA-EPEL-2017-0898aa73c1\n",
      "https://bodhi.fedoraproject.org/updates/FEDORA-EPEL-2017-40f2ec86ac\n",
      "https://bodhi.fedoraproject.org/updates/FEDORA-EPEL-2017-7c829ee0cc\n",
      "https://bodhi.fedoraproject.org/updates/FEDORA-EPEL-2017-a03ab90854\n",
      "https://bodhi.fedoraproject.org/updates/FEDORA-EPEL-2017-6ce9a893d9\n",
      "https://bodhi.fedoraproject.org/updates/FEDORA-EPEL-2017-70a45d56c9\n",
      "https://bodhi.fedoraproject.org/updates/FEDORA-EPEL-2017-915e1038c6\n",
      "https://bodhi.fedoraproject.org/updates/FEDORA-EPEL-2017-b894f8455e\n",
      "https://bodhi.fedoraproject.org/updates/FEDORA-EPEL-2017-9a96f99c41\n",
      "https://bodhi.fedoraproject.org/updates/FEDORA-EPEL-2017-87465bd33a\n",
      "https://bodhi.fedoraproject.org/updates/FEDORA-EPEL-2017-bdfa729240\n",
      "https://bodhi.fedoraproject.org/updates/FEDORA-EPEL-2018-9aa7e37100\n",
      "https://bodhi.fedoraproject.org/updates/FEDORA-EPEL-2018-ac679be681\n",
      "https://bodhi.fedoraproject.org/updates/FEDORA-EPEL-2018-a9d6a73785\n",
      "https://bodhi.fedoraproject.org/updates/FEDORA-EPEL-2018-96fa72d9e3\n",
      "all contrib\n",
      "https://bodhi.fedoraproject.org/updates/FEDORA-EPEL-2016-34867605a6\n",
      "https://bodhi.fedoraproject.org/updates/FEDORA-EPEL-2016-df23b8d98f\n",
      "https://bodhi.fedoraproject.org/updates/FEDORA-EPEL-2016-2df384575c\n",
      "https://bodhi.fedoraproject.org/updates/FEDORA-EPEL-2016-e6d4ede2f9\n",
      "https://bodhi.fedoraproject.org/updates/FEDORA-EPEL-2016-b423a623ab\n",
      "https://bodhi.fedoraproject.org/updates/FEDORA-EPEL-2016-4b33a8a300\n",
      "https://bodhi.fedoraproject.org/updates/FEDORA-EPEL-2016-82d9489fec\n",
      "https://bodhi.fedoraproject.org/updates/FEDORA-EPEL-2016-9381574b73\n",
      "https://bodhi.fedoraproject.org/updates/FEDORA-EPEL-2016-a892a761e3\n",
      "https://bodhi.fedoraproject.org/updates/FEDORA-EPEL-2016-e8bb5db00f\n",
      "https://bodhi.fedoraproject.org/updates/FEDORA-EPEL-2016-d212f36e90\n",
      "https://bodhi.fedoraproject.org/updates/FEDORA-EPEL-2016-5e871cdf9f\n",
      "https://bodhi.fedoraproject.org/updates/FEDORA-EPEL-2016-9171e02fbb\n",
      "https://bodhi.fedoraproject.org/updates/FEDORA-EPEL-2016-d10799e902\n",
      "https://bodhi.fedoraproject.org/updates/FEDORA-EPEL-2016-ec8568474f\n",
      "https://bodhi.fedoraproject.org/updates/FEDORA-EPEL-2016-098bd3de3f\n",
      "https://bodhi.fedoraproject.org/updates/FEDORA-EPEL-2016-dabdaea42c\n",
      "https://bodhi.fedoraproject.org/updates/FEDORA-EPEL-2016-c6854c4605\n",
      "https://bodhi.fedoraproject.org/updates/FEDORA-EPEL-2016-e5c99b0e71\n",
      "https://bodhi.fedoraproject.org/updates/FEDORA-EPEL-2016-73c45851e3\n",
      "https://bodhi.fedoraproject.org/updates/FEDORA-EPEL-2016-7e449ea7fe\n",
      "https://bodhi.fedoraproject.org/updates/FEDORA-EPEL-2016-eeb5eb25e8\n",
      "https://bodhi.fedoraproject.org/updates/FEDORA-EPEL-2016-1def601200\n",
      "https://bodhi.fedoraproject.org/updates/FEDORA-EPEL-2016-f64aaa24ee\n",
      "https://bodhi.fedoraproject.org/updates/FEDORA-EPEL-2017-8b92aa8270\n",
      "https://bodhi.fedoraproject.org/updates/FEDORA-EPEL-2017-d205e9dda2\n",
      "https://bodhi.fedoraproject.org/updates/FEDORA-EPEL-2017-aeaeb61893\n",
      "https://bodhi.fedoraproject.org/updates/FEDORA-EPEL-2017-d1479a5265\n",
      "https://bodhi.fedoraproject.org/updates/FEDORA-EPEL-2017-78a5afc356\n",
      "https://bodhi.fedoraproject.org/updates/FEDORA-EPEL-2017-bb616c1df9\n",
      "https://bodhi.fedoraproject.org/updates/FEDORA-EPEL-2017-5d1ed59f1e\n",
      "https://bodhi.fedoraproject.org/updates/FEDORA-EPEL-2017-53a1f3631b\n",
      "https://bodhi.fedoraproject.org/updates/FEDORA-EPEL-2017-94e61caa0f\n",
      "https://bodhi.fedoraproject.org/updates/FEDORA-EPEL-2017-218c66ea7f\n",
      "https://bodhi.fedoraproject.org/updates/FEDORA-EPEL-2017-4fa4754776\n",
      "https://bodhi.fedoraproject.org/updates/FEDORA-EPEL-2017-a800294f99\n",
      "https://bodhi.fedoraproject.org/updates/FEDORA-EPEL-2017-c16a87a6b8\n",
      "https://bodhi.fedoraproject.org/updates/FEDORA-EPEL-2017-3610a5ca41\n",
      "https://bodhi.fedoraproject.org/updates/FEDORA-EPEL-2017-7f94a570e6\n",
      "https://bodhi.fedoraproject.org/updates/FEDORA-EPEL-2017-623ae35d2c\n",
      "https://bodhi.fedoraproject.org/updates/FEDORA-EPEL-2017-9477522625\n",
      "https://bodhi.fedoraproject.org/updates/FEDORA-EPEL-2017-75e624533b\n",
      "https://bodhi.fedoraproject.org/updates/FEDORA-EPEL-2017-9dd7305825\n",
      "https://bodhi.fedoraproject.org/updates/FEDORA-EPEL-2017-ef9ec9b242\n",
      "https://bodhi.fedoraproject.org/updates/FEDORA-EPEL-2017-3c1753ae3e\n",
      "https://bodhi.fedoraproject.org/updates/FEDORA-EPEL-2017-1510ffc19b\n",
      "https://bodhi.fedoraproject.org/updates/FEDORA-EPEL-2017-90f50212d5\n",
      "https://bodhi.fedoraproject.org/updates/FEDORA-EPEL-2017-d61e2e47b5\n",
      "https://bodhi.fedoraproject.org/updates/FEDORA-EPEL-2017-d4d5664854\n",
      "all rest\n",
      "https://bodhi.fedoraproject.org/updates/FEDORA-EPEL-2017-c976666327\n",
      "https://bodhi.fedoraproject.org/updates/FEDORA-EPEL-2017-72e2f0c31d\n",
      "https://bodhi.fedoraproject.org/updates/FEDORA-EPEL-2018-271626c617\n",
      "some\n",
      "some owner\n",
      "some contrib\n",
      "some rest\n"
     ]
    }
   ],
   "source": [
    "for k1 in orphaned:\n",
    "    print(k1)\n",
    "    if type(orphaned[k1]) is list:\n",
    "        [print_update_link_short(x) for x in orphaned[k1]]\n",
    "    else:\n",
    "        for k2 in orphaned[k1]:\n",
    "            print(k1, k2)\n",
    "            [print_update_link_short(x) for x in orphaned[k1][k2]]"
   ]
  }
 ],
 "metadata": {
  "kernelspec": {
   "display_name": "Python 3 (ipykernel)",
   "language": "python",
   "name": "python3"
  },
  "language_info": {
   "codemirror_mode": {
    "name": "ipython",
    "version": 3
   },
   "file_extension": ".py",
   "mimetype": "text/x-python",
   "name": "python",
   "nbconvert_exporter": "python",
   "pygments_lexer": "ipython3",
   "version": "3.11.3"
  }
 },
 "nbformat": 4,
 "nbformat_minor": 5
}
